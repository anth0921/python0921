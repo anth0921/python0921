{
 "cells": [
  {
   "cell_type": "markdown",
   "id": "standard-architecture",
   "metadata": {},
   "source": [
    "# 2일차 수업 : 파이선의 기본문법"
   ]
  },
  {
   "cell_type": "markdown",
   "id": "sharing-germany",
   "metadata": {},
   "source": [
    "### Jupyter Notebook 사용법\n",
    "* 셀:  \n",
    "* Code와   \n",
    "* 셀의 실행 \n",
    "  - Cotl+Enter - 실행만  \n",
    "  - Shift+Enter - 아래셀 없으면 만들고 이동  \n",
    "  - Alt+Enter - 실행 후 아래로 셀 이동  \n",
    "* 셀의 추가 : \n",
    "  - a 기준셀의 위에  "
   ]
  },
  {
   "cell_type": "markdown",
   "id": "viral-treat",
   "metadata": {},
   "source": [
    "## 1. print() 함수의 활용\n",
    "파이썬에서 출력을 위해서는 Print를 사용한다.\n",
    "```python  \n",
    "print(\"문자열\")  \n",
    "print(수식)  \n",
    "print(숫자값)  \n",
    "아래 셀에서 설명을 해 보자"
   ]
  },
  {
   "cell_type": "code",
   "execution_count": null,
   "id": "sporting-certification",
   "metadata": {},
   "outputs": [],
   "source": [
    "print(\"Hello\")\n",
    "print(\"Python\")"
   ]
  },
  {
   "cell_type": "markdown",
   "id": "attempted-expert",
   "metadata": {},
   "source": [
    "## 2. 파이썬의 주석  \n",
    "파이썬의 주석은 행단위의 주석과 블럭단위의 주석이 있다.  \n",
    "1. 행단위의 주석  \n",
    "```python\n",
    "# 이 코드는 행 단위의 주석을 설명한다.\n",
    "print(\"Hello Python\") # 요기도 주석입니다.\n",
    "# print(\"Hello Python\") \n",
    "\n",
    "2. 블럭단위의 주석  \n",
    "```python  \n",
    "  # 주석 1  \n",
    "  # 주석 2  "
   ]
  },
  {
   "cell_type": "code",
   "execution_count": 4,
   "id": "tough-farming",
   "metadata": {},
   "outputs": [
    {
     "name": "stdout",
     "output_type": "stream",
     "text": [
      "Hello Python\n"
     ]
    }
   ],
   "source": [
    "# 이 코드는 행 단위의 주석을 설명한다.\n",
    "print(\"Hello Python\") # 요기도 주석입니다.\n",
    "# print(\"Hello Python\")"
   ]
  },
  {
   "cell_type": "code",
   "execution_count": null,
   "id": "universal-proportion",
   "metadata": {},
   "outputs": [],
   "source": []
  }
 ],
 "metadata": {
  "kernelspec": {
   "display_name": "Python 3",
   "language": "python",
   "name": "python3"
  },
  "language_info": {
   "codemirror_mode": {
    "name": "ipython",
    "version": 3
   },
   "file_extension": ".py",
   "mimetype": "text/x-python",
   "name": "python",
   "nbconvert_exporter": "python",
   "pygments_lexer": "ipython3",
   "version": "3.9.2"
  }
 },
 "nbformat": 4,
 "nbformat_minor": 5
}
